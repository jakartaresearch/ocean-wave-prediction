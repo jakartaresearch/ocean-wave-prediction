{
 "cells": [
  {
   "cell_type": "markdown",
   "id": "alternative-speed",
   "metadata": {},
   "source": [
    "# Baseline model for single step"
   ]
  },
  {
   "cell_type": "code",
   "execution_count": 1,
   "id": "obvious-sister",
   "metadata": {},
   "outputs": [],
   "source": [
    "import pandas as pd\n",
    "import numpy as np\n",
    "import matplotlib.pyplot as plt\n",
    "import seaborn as sns"
   ]
  },
  {
   "cell_type": "code",
   "execution_count": 2,
   "id": "similar-exercise",
   "metadata": {},
   "outputs": [],
   "source": [
    "d_data = pd.read_csv(\"../data/clean/df_41017.csv\")"
   ]
  },
  {
   "cell_type": "code",
   "execution_count": 6,
   "id": "controversial-wichita",
   "metadata": {},
   "outputs": [],
   "source": [
    "swh_arr = d_data.swh.values"
   ]
  },
  {
   "cell_type": "code",
   "execution_count": 7,
   "id": "compound-headline",
   "metadata": {},
   "outputs": [
    {
     "data": {
      "text/plain": [
       "(32904,)"
      ]
     },
     "execution_count": 7,
     "metadata": {},
     "output_type": "execute_result"
    }
   ],
   "source": [
    "swh_arr.shape"
   ]
  },
  {
   "cell_type": "code",
   "execution_count": 10,
   "id": "clinical-falls",
   "metadata": {},
   "outputs": [
    {
     "data": {
      "text/plain": [
       "32898"
      ]
     },
     "execution_count": 10,
     "metadata": {},
     "output_type": "execute_result"
    }
   ],
   "source": [
    "swh_arr.shape[0] - 6"
   ]
  },
  {
   "cell_type": "code",
   "execution_count": 26,
   "id": "entire-seven",
   "metadata": {},
   "outputs": [],
   "source": [
    "dataset = np.zeros((32899, 6))"
   ]
  },
  {
   "cell_type": "code",
   "execution_count": 27,
   "id": "electrical-exhibit",
   "metadata": {},
   "outputs": [],
   "source": [
    "for idx, start in enumerate(range(0, len(swh_arr) - 5)):\n",
    "    row = swh_arr[start:start+6]\n",
    "    dataset[idx, :] = row"
   ]
  },
  {
   "cell_type": "code",
   "execution_count": 46,
   "id": "biological-pierre",
   "metadata": {},
   "outputs": [],
   "source": [
    "dataset_nona = dataset[~np.isnan(dataset).any(axis=1)]"
   ]
  },
  {
   "cell_type": "markdown",
   "id": "elder-dealing",
   "metadata": {},
   "source": [
    "### Modeling"
   ]
  },
  {
   "cell_type": "code",
   "execution_count": 84,
   "id": "potential-officer",
   "metadata": {},
   "outputs": [],
   "source": [
    "from sklearn.svm import SVR\n",
    "from sklearn.model_selection import train_test_split, KFold\n",
    "from sklearn.metrics import mean_squared_error, make_scorer"
   ]
  },
  {
   "cell_type": "code",
   "execution_count": 64,
   "id": "included-comedy",
   "metadata": {},
   "outputs": [],
   "source": [
    "def rmse(y_true, y_pred):\n",
    "    return mean_squared_error(y_true, y_pred, squared=True)"
   ]
  },
  {
   "cell_type": "code",
   "execution_count": 65,
   "id": "agreed-layout",
   "metadata": {},
   "outputs": [],
   "source": [
    "rmse_score = make_scorer(rmse, greater_is_better=False)"
   ]
  },
  {
   "cell_type": "code",
   "execution_count": 57,
   "id": "completed-carnival",
   "metadata": {},
   "outputs": [],
   "source": [
    "X = dataset_nona[:, :5]\n",
    "y = dataset_nona[:, 5]"
   ]
  },
  {
   "cell_type": "code",
   "execution_count": 58,
   "id": "distinct-starter",
   "metadata": {},
   "outputs": [
    {
     "data": {
      "text/plain": [
       "array([[2.15, 2.18, 2.32, 2.47, 2.31],\n",
       "       [2.18, 2.32, 2.47, 2.31, 2.37],\n",
       "       [2.32, 2.47, 2.31, 2.37, 2.25],\n",
       "       ...,\n",
       "       [2.  , 1.84, 2.04, 2.01, 1.99],\n",
       "       [1.84, 2.04, 2.01, 1.99, 2.11],\n",
       "       [2.04, 2.01, 1.99, 2.11, 2.15]])"
      ]
     },
     "execution_count": 58,
     "metadata": {},
     "output_type": "execute_result"
    }
   ],
   "source": [
    "X"
   ]
  },
  {
   "cell_type": "code",
   "execution_count": 59,
   "id": "conscious-graham",
   "metadata": {},
   "outputs": [
    {
     "data": {
      "text/plain": [
       "array([2.37, 2.25, 2.25, ..., 2.11, 2.15, 2.  ])"
      ]
     },
     "execution_count": 59,
     "metadata": {},
     "output_type": "execute_result"
    }
   ],
   "source": [
    "y"
   ]
  },
  {
   "cell_type": "markdown",
   "id": "imposed-painting",
   "metadata": {},
   "source": [
    "Train Test Split"
   ]
  },
  {
   "cell_type": "code",
   "execution_count": 78,
   "id": "chinese-contamination",
   "metadata": {},
   "outputs": [],
   "source": [
    "X_train, X_test, y_train, y_test = train_test_split(X, y)"
   ]
  },
  {
   "cell_type": "code",
   "execution_count": 79,
   "id": "flying-graham",
   "metadata": {},
   "outputs": [],
   "source": [
    "model = SVR()"
   ]
  },
  {
   "cell_type": "code",
   "execution_count": 80,
   "id": "looking-garage",
   "metadata": {},
   "outputs": [
    {
     "data": {
      "text/plain": [
       "SVR(C=1.0, cache_size=200, coef0=0.0, degree=3, epsilon=0.1, gamma='scale',\n",
       "    kernel='rbf', max_iter=-1, shrinking=True, tol=0.001, verbose=False)"
      ]
     },
     "execution_count": 80,
     "metadata": {},
     "output_type": "execute_result"
    }
   ],
   "source": [
    "model.fit(X_train, y_train)"
   ]
  },
  {
   "cell_type": "code",
   "execution_count": 81,
   "id": "tender-lobby",
   "metadata": {},
   "outputs": [],
   "source": [
    "y_pred = model.predict(X_test)"
   ]
  },
  {
   "cell_type": "code",
   "execution_count": 82,
   "id": "medical-brass",
   "metadata": {},
   "outputs": [
    {
     "data": {
      "text/plain": [
       "0.012503255051962562"
      ]
     },
     "execution_count": 82,
     "metadata": {},
     "output_type": "execute_result"
    }
   ],
   "source": [
    "mean_squared_error(y_test, y_pred, squared=True)"
   ]
  },
  {
   "cell_type": "markdown",
   "id": "copyrighted-toner",
   "metadata": {},
   "source": [
    "KFold"
   ]
  },
  {
   "cell_type": "code",
   "execution_count": 85,
   "id": "comic-romania",
   "metadata": {},
   "outputs": [],
   "source": [
    "folds = KFold(n_splits=5).split(np.arange(0, len(X)))"
   ]
  },
  {
   "cell_type": "code",
   "execution_count": 87,
   "id": "classical-multiple",
   "metadata": {},
   "outputs": [],
   "source": [
    "scores = np.zeros(5)"
   ]
  },
  {
   "cell_type": "code",
   "execution_count": 88,
   "id": "average-integer",
   "metadata": {},
   "outputs": [],
   "source": [
    "for idx, (train, test) in enumerate(folds):\n",
    "    X_train, y_train = X[train], y[train]\n",
    "    X_test, y_test = X[test], y[test]\n",
    "    \n",
    "    model = SVR()\n",
    "    model.fit(X_train, y_train)\n",
    "    y_pred = model.predict(X_test)\n",
    "    rmse = mean_squared_error(y_test, y_pred, squared=True)\n",
    "    scores[idx] = rmse"
   ]
  },
  {
   "cell_type": "code",
   "execution_count": 89,
   "id": "pressing-reality",
   "metadata": {},
   "outputs": [
    {
     "data": {
      "text/plain": [
       "(0.01294563862181603, 0.0008040770585380799)"
      ]
     },
     "execution_count": 89,
     "metadata": {},
     "output_type": "execute_result"
    }
   ],
   "source": [
    "scores.mean(), scores.std()"
   ]
  },
  {
   "cell_type": "markdown",
   "id": "exempt-market",
   "metadata": {},
   "source": [
    "Inference with latest data split"
   ]
  },
  {
   "cell_type": "code",
   "execution_count": 90,
   "id": "interracial-ocean",
   "metadata": {},
   "outputs": [],
   "source": [
    "model = SVR()"
   ]
  },
  {
   "cell_type": "code",
   "execution_count": 91,
   "id": "south-texture",
   "metadata": {},
   "outputs": [
    {
     "data": {
      "text/plain": [
       "SVR(C=1.0, cache_size=200, coef0=0.0, degree=3, epsilon=0.1, gamma='scale',\n",
       "    kernel='rbf', max_iter=-1, shrinking=True, tol=0.001, verbose=False)"
      ]
     },
     "execution_count": 91,
     "metadata": {},
     "output_type": "execute_result"
    }
   ],
   "source": [
    "model.fit(X_train, y_train)"
   ]
  },
  {
   "cell_type": "code",
   "execution_count": 92,
   "id": "greenhouse-glance",
   "metadata": {},
   "outputs": [],
   "source": [
    "y_pred = model.predict(X_test)"
   ]
  },
  {
   "cell_type": "code",
   "execution_count": 99,
   "id": "searching-recall",
   "metadata": {},
   "outputs": [],
   "source": [
    "y_true_pred = np.concatenate((y_test.reshape(-1, 1), y_pred.reshape(-1,1)), axis=1)"
   ]
  },
  {
   "cell_type": "code",
   "execution_count": 101,
   "id": "applied-transcription",
   "metadata": {},
   "outputs": [
    {
     "data": {
      "text/html": [
       "<div>\n",
       "<style scoped>\n",
       "    .dataframe tbody tr th:only-of-type {\n",
       "        vertical-align: middle;\n",
       "    }\n",
       "\n",
       "    .dataframe tbody tr th {\n",
       "        vertical-align: top;\n",
       "    }\n",
       "\n",
       "    .dataframe thead th {\n",
       "        text-align: right;\n",
       "    }\n",
       "</style>\n",
       "<table border=\"1\" class=\"dataframe\">\n",
       "  <thead>\n",
       "    <tr style=\"text-align: right;\">\n",
       "      <th></th>\n",
       "      <th>true</th>\n",
       "      <th>pred</th>\n",
       "    </tr>\n",
       "  </thead>\n",
       "  <tbody>\n",
       "    <tr>\n",
       "      <th>0</th>\n",
       "      <td>2.18</td>\n",
       "      <td>2.192955</td>\n",
       "    </tr>\n",
       "    <tr>\n",
       "      <th>1</th>\n",
       "      <td>2.49</td>\n",
       "      <td>2.171414</td>\n",
       "    </tr>\n",
       "    <tr>\n",
       "      <th>2</th>\n",
       "      <td>2.17</td>\n",
       "      <td>2.316106</td>\n",
       "    </tr>\n",
       "    <tr>\n",
       "      <th>3</th>\n",
       "      <td>2.28</td>\n",
       "      <td>2.253712</td>\n",
       "    </tr>\n",
       "    <tr>\n",
       "      <th>4</th>\n",
       "      <td>2.25</td>\n",
       "      <td>2.276997</td>\n",
       "    </tr>\n",
       "    <tr>\n",
       "      <th>...</th>\n",
       "      <td>...</td>\n",
       "      <td>...</td>\n",
       "    </tr>\n",
       "    <tr>\n",
       "      <th>6096</th>\n",
       "      <td>2.01</td>\n",
       "      <td>1.983925</td>\n",
       "    </tr>\n",
       "    <tr>\n",
       "      <th>6097</th>\n",
       "      <td>1.99</td>\n",
       "      <td>1.997016</td>\n",
       "    </tr>\n",
       "    <tr>\n",
       "      <th>6098</th>\n",
       "      <td>2.11</td>\n",
       "      <td>1.991488</td>\n",
       "    </tr>\n",
       "    <tr>\n",
       "      <th>6099</th>\n",
       "      <td>2.15</td>\n",
       "      <td>2.051199</td>\n",
       "    </tr>\n",
       "    <tr>\n",
       "      <th>6100</th>\n",
       "      <td>2.00</td>\n",
       "      <td>2.099460</td>\n",
       "    </tr>\n",
       "  </tbody>\n",
       "</table>\n",
       "<p>6101 rows × 2 columns</p>\n",
       "</div>"
      ],
      "text/plain": [
       "      true      pred\n",
       "0     2.18  2.192955\n",
       "1     2.49  2.171414\n",
       "2     2.17  2.316106\n",
       "3     2.28  2.253712\n",
       "4     2.25  2.276997\n",
       "...    ...       ...\n",
       "6096  2.01  1.983925\n",
       "6097  1.99  1.997016\n",
       "6098  2.11  1.991488\n",
       "6099  2.15  2.051199\n",
       "6100  2.00  2.099460\n",
       "\n",
       "[6101 rows x 2 columns]"
      ]
     },
     "execution_count": 101,
     "metadata": {},
     "output_type": "execute_result"
    }
   ],
   "source": [
    "pd.DataFrame(data=y_true_pred, columns=['true', 'pred'])"
   ]
  },
  {
   "cell_type": "code",
   "execution_count": null,
   "id": "hispanic-candy",
   "metadata": {},
   "outputs": [],
   "source": []
  }
 ],
 "metadata": {
  "kernelspec": {
   "display_name": "Python 3",
   "language": "python",
   "name": "python3"
  },
  "language_info": {
   "codemirror_mode": {
    "name": "ipython",
    "version": 3
   },
   "file_extension": ".py",
   "mimetype": "text/x-python",
   "name": "python",
   "nbconvert_exporter": "python",
   "pygments_lexer": "ipython3",
   "version": "3.7.3"
  }
 },
 "nbformat": 4,
 "nbformat_minor": 5
}
