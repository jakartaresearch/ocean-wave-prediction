{
 "cells": [
  {
   "cell_type": "markdown",
   "id": "applicable-tumor",
   "metadata": {},
   "source": [
    "# Baseline model for single step"
   ]
  },
  {
   "cell_type": "code",
   "execution_count": 1,
   "id": "satisfied-transportation",
   "metadata": {},
   "outputs": [],
   "source": [
    "import pandas as pd\n",
    "import numpy as np\n",
    "import matplotlib.pyplot as plt\n",
    "import seaborn as sns"
   ]
  },
  {
   "cell_type": "code",
   "execution_count": 2,
   "id": "sunrise-anthony",
   "metadata": {},
   "outputs": [],
   "source": [
    "d_data = pd.read_csv(\"../data/clean/df_41017.csv\")"
   ]
  },
  {
   "cell_type": "code",
   "execution_count": 3,
   "id": "south-adaptation",
   "metadata": {},
   "outputs": [],
   "source": [
    "d_data.date = pd.to_datetime(d_data.date)"
   ]
  },
  {
   "cell_type": "code",
   "execution_count": 4,
   "id": "realistic-patrick",
   "metadata": {},
   "outputs": [],
   "source": [
    "d_test = d_data[d_data.date > pd.to_datetime(\"2016/01/01\")]"
   ]
  },
  {
   "cell_type": "code",
   "execution_count": 5,
   "id": "owned-assistant",
   "metadata": {},
   "outputs": [],
   "source": [
    "d_train = d_data[d_data.date < pd.to_datetime(\"2016/01/01\")]"
   ]
  },
  {
   "cell_type": "code",
   "execution_count": 6,
   "id": "irish-techno",
   "metadata": {},
   "outputs": [],
   "source": [
    "swh_arr = d_train.swh.values"
   ]
  },
  {
   "cell_type": "code",
   "execution_count": 7,
   "id": "suited-exemption",
   "metadata": {},
   "outputs": [
    {
     "data": {
      "text/plain": [
       "(24121,)"
      ]
     },
     "execution_count": 7,
     "metadata": {},
     "output_type": "execute_result"
    }
   ],
   "source": [
    "swh_arr.shape"
   ]
  },
  {
   "cell_type": "code",
   "execution_count": 8,
   "id": "liable-albania",
   "metadata": {},
   "outputs": [],
   "source": [
    "rows = swh_arr.shape[0] - 6"
   ]
  },
  {
   "cell_type": "code",
   "execution_count": 9,
   "id": "divine-hurricane",
   "metadata": {},
   "outputs": [],
   "source": [
    "dataset = np.zeros((rows+1, 6))"
   ]
  },
  {
   "cell_type": "code",
   "execution_count": 10,
   "id": "close-wichita",
   "metadata": {},
   "outputs": [],
   "source": [
    "for idx, start in enumerate(range(0, len(swh_arr) - 5)):\n",
    "    row = swh_arr[start:start+6]\n",
    "    dataset[idx, :] = row"
   ]
  },
  {
   "cell_type": "code",
   "execution_count": 11,
   "id": "accessory-terrorism",
   "metadata": {},
   "outputs": [
    {
     "data": {
      "text/plain": [
       "array([[2.15, 2.18, 2.32, 2.47, 2.31, 2.37],\n",
       "       [2.18, 2.32, 2.47, 2.31, 2.37, 2.25],\n",
       "       [2.32, 2.47, 2.31, 2.37, 2.25, 2.25],\n",
       "       ...,\n",
       "       [2.64, 2.44, 2.85, 2.7 , 2.64, 2.56],\n",
       "       [2.44, 2.85, 2.7 , 2.64, 2.56, 2.48],\n",
       "       [2.85, 2.7 , 2.64, 2.56, 2.48, 2.63]])"
      ]
     },
     "execution_count": 11,
     "metadata": {},
     "output_type": "execute_result"
    }
   ],
   "source": [
    "dataset"
   ]
  },
  {
   "cell_type": "code",
   "execution_count": 12,
   "id": "elder-angel",
   "metadata": {},
   "outputs": [
    {
     "data": {
      "text/plain": [
       "(24116, 6)"
      ]
     },
     "execution_count": 12,
     "metadata": {},
     "output_type": "execute_result"
    }
   ],
   "source": [
    "dataset.shape"
   ]
  },
  {
   "cell_type": "code",
   "execution_count": 13,
   "id": "subsequent-centre",
   "metadata": {},
   "outputs": [],
   "source": [
    "dataset_nona = dataset[~np.isnan(dataset).any(axis=1)]"
   ]
  },
  {
   "cell_type": "code",
   "execution_count": 14,
   "id": "oriented-granny",
   "metadata": {},
   "outputs": [
    {
     "data": {
      "text/plain": [
       "array([[2.15, 2.18, 2.32, 2.47, 2.31, 2.37],\n",
       "       [2.18, 2.32, 2.47, 2.31, 2.37, 2.25],\n",
       "       [2.32, 2.47, 2.31, 2.37, 2.25, 2.25],\n",
       "       ...,\n",
       "       [2.64, 2.44, 2.85, 2.7 , 2.64, 2.56],\n",
       "       [2.44, 2.85, 2.7 , 2.64, 2.56, 2.48],\n",
       "       [2.85, 2.7 , 2.64, 2.56, 2.48, 2.63]])"
      ]
     },
     "execution_count": 14,
     "metadata": {},
     "output_type": "execute_result"
    }
   ],
   "source": [
    "dataset_nona"
   ]
  },
  {
   "cell_type": "code",
   "execution_count": 15,
   "id": "individual-registration",
   "metadata": {},
   "outputs": [
    {
     "data": {
      "text/plain": [
       "(22455, 6)"
      ]
     },
     "execution_count": 15,
     "metadata": {},
     "output_type": "execute_result"
    }
   ],
   "source": [
    "dataset_nona.shape"
   ]
  },
  {
   "cell_type": "markdown",
   "id": "spoken-unknown",
   "metadata": {},
   "source": [
    "### Modeling"
   ]
  },
  {
   "cell_type": "code",
   "execution_count": 16,
   "id": "fitted-detective",
   "metadata": {},
   "outputs": [],
   "source": [
    "from sklearn.svm import SVR\n",
    "from sklearn.model_selection import train_test_split, KFold\n",
    "from sklearn.metrics import mean_squared_error, make_scorer"
   ]
  },
  {
   "cell_type": "code",
   "execution_count": 17,
   "id": "proved-cattle",
   "metadata": {},
   "outputs": [],
   "source": [
    "def rmse(y_true, y_pred):\n",
    "    return mean_squared_error(y_true, y_pred, squared=True)"
   ]
  },
  {
   "cell_type": "code",
   "execution_count": 18,
   "id": "increased-citizen",
   "metadata": {},
   "outputs": [],
   "source": [
    "rmse_score = make_scorer(rmse, greater_is_better=False)"
   ]
  },
  {
   "cell_type": "code",
   "execution_count": 19,
   "id": "invalid-property",
   "metadata": {},
   "outputs": [],
   "source": [
    "X = dataset_nona[:, :5]\n",
    "y = dataset_nona[:, 5]"
   ]
  },
  {
   "cell_type": "code",
   "execution_count": null,
   "id": "wicked-junior",
   "metadata": {},
   "outputs": [],
   "source": [
    "X"
   ]
  },
  {
   "cell_type": "code",
   "execution_count": null,
   "id": "premier-girlfriend",
   "metadata": {},
   "outputs": [],
   "source": [
    "y"
   ]
  },
  {
   "cell_type": "markdown",
   "id": "scientific-seventh",
   "metadata": {},
   "source": [
    "Train Test Split"
   ]
  },
  {
   "cell_type": "code",
   "execution_count": null,
   "id": "temporal-marina",
   "metadata": {},
   "outputs": [],
   "source": [
    "X_train, X_test, y_train, y_test = train_test_split(X, y)"
   ]
  },
  {
   "cell_type": "code",
   "execution_count": null,
   "id": "focal-population",
   "metadata": {},
   "outputs": [],
   "source": [
    "model = SVR()"
   ]
  },
  {
   "cell_type": "code",
   "execution_count": null,
   "id": "polar-emission",
   "metadata": {},
   "outputs": [],
   "source": [
    "model.fit(X_train, y_train)"
   ]
  },
  {
   "cell_type": "code",
   "execution_count": null,
   "id": "superb-ultimate",
   "metadata": {},
   "outputs": [],
   "source": [
    "y_pred = model.predict(X_test)"
   ]
  },
  {
   "cell_type": "code",
   "execution_count": null,
   "id": "about-advertising",
   "metadata": {},
   "outputs": [],
   "source": [
    "mean_squared_error(y_test, y_pred, squared=True)"
   ]
  },
  {
   "cell_type": "markdown",
   "id": "color-china",
   "metadata": {},
   "source": [
    "KFold"
   ]
  },
  {
   "cell_type": "code",
   "execution_count": null,
   "id": "cooked-matrix",
   "metadata": {},
   "outputs": [],
   "source": [
    "folds = KFold(n_splits=5).split(np.arange(0, len(X)))"
   ]
  },
  {
   "cell_type": "code",
   "execution_count": null,
   "id": "novel-therapy",
   "metadata": {},
   "outputs": [],
   "source": [
    "scores = np.zeros(5)"
   ]
  },
  {
   "cell_type": "code",
   "execution_count": null,
   "id": "posted-salmon",
   "metadata": {},
   "outputs": [],
   "source": [
    "for idx, (train, test) in enumerate(folds):\n",
    "    X_train, y_train = X[train], y[train]\n",
    "    X_test, y_test = X[test], y[test]\n",
    "    \n",
    "    model = SVR()\n",
    "    model.fit(X_train, y_train)\n",
    "    y_pred = model.predict(X_test)\n",
    "    rmse = mean_squared_error(y_test, y_pred, squared=True)\n",
    "    scores[idx] = rmse"
   ]
  },
  {
   "cell_type": "code",
   "execution_count": null,
   "id": "medical-advocacy",
   "metadata": {},
   "outputs": [],
   "source": [
    "scores.mean(), scores.std()"
   ]
  },
  {
   "cell_type": "markdown",
   "id": "manufactured-guinea",
   "metadata": {},
   "source": [
    "Inference with latest data split"
   ]
  },
  {
   "cell_type": "code",
   "execution_count": null,
   "id": "exotic-silence",
   "metadata": {},
   "outputs": [],
   "source": [
    "model = SVR()"
   ]
  },
  {
   "cell_type": "code",
   "execution_count": null,
   "id": "interpreted-fitting",
   "metadata": {},
   "outputs": [],
   "source": [
    "model.fit(X_train, y_train)"
   ]
  },
  {
   "cell_type": "code",
   "execution_count": null,
   "id": "known-sharp",
   "metadata": {},
   "outputs": [],
   "source": [
    "y_pred = model.predict(X_test)"
   ]
  },
  {
   "cell_type": "code",
   "execution_count": null,
   "id": "automatic-calendar",
   "metadata": {},
   "outputs": [],
   "source": [
    "y_true_pred = np.concatenate((y_test.reshape(-1, 1), y_pred.reshape(-1,1)), axis=1)"
   ]
  },
  {
   "cell_type": "code",
   "execution_count": null,
   "id": "everyday-technique",
   "metadata": {},
   "outputs": [],
   "source": [
    "pd.DataFrame(data=y_true_pred, columns=['true', 'pred'])"
   ]
  },
  {
   "cell_type": "markdown",
   "id": "laden-architecture",
   "metadata": {},
   "source": [
    "### Multi time steps"
   ]
  },
  {
   "cell_type": "markdown",
   "id": "engaged-warrior",
   "metadata": {},
   "source": [
    "#### fitmodel"
   ]
  },
  {
   "cell_type": "code",
   "execution_count": 20,
   "id": "floppy-edgar",
   "metadata": {},
   "outputs": [],
   "source": [
    "model = SVR()"
   ]
  },
  {
   "cell_type": "code",
   "execution_count": 21,
   "id": "vietnamese-skirt",
   "metadata": {},
   "outputs": [
    {
     "data": {
      "text/plain": [
       "SVR(C=1.0, cache_size=200, coef0=0.0, degree=3, epsilon=0.1, gamma='scale',\n",
       "    kernel='rbf', max_iter=-1, shrinking=True, tol=0.001, verbose=False)"
      ]
     },
     "execution_count": 21,
     "metadata": {},
     "output_type": "execute_result"
    }
   ],
   "source": [
    "model.fit(X, y)"
   ]
  },
  {
   "cell_type": "code",
   "execution_count": 22,
   "id": "correct-uruguay",
   "metadata": {},
   "outputs": [
    {
     "data": {
      "text/plain": [
       "date      0\n",
       "swh     126\n",
       "dtype: int64"
      ]
     },
     "execution_count": 22,
     "metadata": {},
     "output_type": "execute_result"
    }
   ],
   "source": [
    "d_test.isna().sum()"
   ]
  },
  {
   "cell_type": "markdown",
   "id": "welcome-geology",
   "metadata": {},
   "source": [
    "#### handle missing values using interpolate "
   ]
  },
  {
   "cell_type": "code",
   "execution_count": 24,
   "id": "canadian-profit",
   "metadata": {},
   "outputs": [],
   "source": [
    "d_test = d_test.interpolate()"
   ]
  },
  {
   "cell_type": "code",
   "execution_count": 81,
   "id": "frank-municipality",
   "metadata": {},
   "outputs": [],
   "source": [
    "start = d_test.swh.values[:5]"
   ]
  },
  {
   "cell_type": "code",
   "execution_count": 82,
   "id": "confident-weekend",
   "metadata": {},
   "outputs": [],
   "source": [
    "start = np.expand_dims(start, 0)"
   ]
  },
  {
   "cell_type": "code",
   "execution_count": 83,
   "id": "soviet-aquarium",
   "metadata": {},
   "outputs": [
    {
     "data": {
      "text/plain": [
       "array([[2.59, 2.71, 2.88, 2.83, 3.11]])"
      ]
     },
     "execution_count": 83,
     "metadata": {},
     "output_type": "execute_result"
    }
   ],
   "source": [
    "start"
   ]
  },
  {
   "cell_type": "code",
   "execution_count": 84,
   "id": "matched-render",
   "metadata": {},
   "outputs": [],
   "source": [
    "y_test_pred = start.copy()"
   ]
  },
  {
   "cell_type": "code",
   "execution_count": 85,
   "id": "governmental-inspector",
   "metadata": {},
   "outputs": [
    {
     "data": {
      "text/plain": [
       "array([[2.59, 2.71, 2.88, 2.83, 3.11]])"
      ]
     },
     "execution_count": 85,
     "metadata": {},
     "output_type": "execute_result"
    }
   ],
   "source": [
    "y_test_pred"
   ]
  },
  {
   "cell_type": "code",
   "execution_count": 86,
   "id": "visible-interaction",
   "metadata": {},
   "outputs": [],
   "source": [
    "iterate = d_test.shape[0] - 5"
   ]
  },
  {
   "cell_type": "code",
   "execution_count": 87,
   "id": "equal-virtue",
   "metadata": {},
   "outputs": [],
   "source": [
    "for _ in range(iterate):\n",
    "    out = model.predict(start)\n",
    "    # only 2 decimals\n",
    "    out = np.round(out, 2)\n",
    "    # append to start\n",
    "    start = np.append(start, out)\n",
    "    start = np.expand_dims(np.delete(start, 0), 0)\n",
    "    # append to test pred\n",
    "    y_test_pred = np.append(y_test_pred, out)"
   ]
  },
  {
   "cell_type": "code",
   "execution_count": 88,
   "id": "daily-recommendation",
   "metadata": {},
   "outputs": [
    {
     "data": {
      "text/plain": [
       "[<matplotlib.lines.Line2D at 0x1ac2912b710>]"
      ]
     },
     "execution_count": 88,
     "metadata": {},
     "output_type": "execute_result"
    },
    {
     "data": {
      "image/png": "[encoded data removed]",
      "text/plain": [
       "<Figure size 432x288 with 1 Axes>"
      ]
     },
     "metadata": {
      "needs_background": "light"
     },
     "output_type": "display_data"
    }
   ],
   "source": [
    "plt.plot(d_test.swh.values)\n",
    "plt.plot(y_test_pred)"
   ]
  },
  {
   "cell_type": "code",
   "execution_count": 92,
   "id": "clean-shadow",
   "metadata": {},
   "outputs": [
    {
     "data": {
      "text/plain": [
       "0.26918843504497325"
      ]
     },
     "execution_count": 92,
     "metadata": {},
     "output_type": "execute_result"
    }
   ],
   "source": [
    "mean_squared_error(d_test.swh, y_test_pred)"
   ]
  },
  {
   "cell_type": "code",
   "execution_count": 93,
   "id": "accessory-deployment",
   "metadata": {},
   "outputs": [
    {
     "data": {
      "text/plain": [
       "0.5188337258168297"
      ]
     },
     "execution_count": 93,
     "metadata": {},
     "output_type": "execute_result"
    }
   ],
   "source": [
    "mean_squared_error(d_test.swh, y_test_pred, squared=False)"
   ]
  },
  {
   "cell_type": "code",
   "execution_count": null,
   "id": "timely-bunny",
   "metadata": {},
   "outputs": [],
   "source": []
  }
 ],
 "metadata": {
  "kernelspec": {
   "display_name": "Python 3",
   "language": "python",
   "name": "python3"
  },
  "language_info": {
   "codemirror_mode": {
    "name": "ipython",
    "version": 3
   },
   "file_extension": ".py",
   "mimetype": "text/x-python",
   "name": "python",
   "nbconvert_exporter": "python",
   "pygments_lexer": "ipython3",
   "version": "3.7.3"
  }
 },
 "nbformat": 4,
 "nbformat_minor": 5
}
