{
 "cells": [
  {
   "cell_type": "markdown",
   "id": "desirable-contents",
   "metadata": {},
   "source": [
    "## Model with PyTorch"
   ]
  },
  {
   "cell_type": "markdown",
   "id": "progressive-vietnam",
   "metadata": {},
   "source": [
    "by: Andreas Chandra \\\n",
    "date: 21/03/2021"
   ]
  },
  {
   "cell_type": "code",
   "execution_count": 83,
   "id": "preliminary-comfort",
   "metadata": {},
   "outputs": [],
   "source": [
    "import time\n",
    "import pandas as pd\n",
    "import numpy as np\n",
    "\n",
    "from sklearn.model_selection import train_test_split\n",
    "\n",
    "import torch\n",
    "import torch.nn as nn\n",
    "import torch.optim as optim\n",
    "from torch.utils.data import DataLoader, Dataset"
   ]
  },
  {
   "cell_type": "code",
   "execution_count": 2,
   "id": "executed-target",
   "metadata": {},
   "outputs": [],
   "source": [
    "d_data = pd.read_csv(\"../data/clean/df_41017.csv\")"
   ]
  },
  {
   "cell_type": "code",
   "execution_count": 3,
   "id": "national-toyota",
   "metadata": {},
   "outputs": [],
   "source": [
    "swh_arr = d_data.swh.values"
   ]
  },
  {
   "cell_type": "code",
   "execution_count": 4,
   "id": "stock-sailing",
   "metadata": {},
   "outputs": [],
   "source": [
    "dataset = np.zeros((32899, 6))"
   ]
  },
  {
   "cell_type": "code",
   "execution_count": 5,
   "id": "suitable-georgia",
   "metadata": {},
   "outputs": [],
   "source": [
    "for idx, start in enumerate(range(0, len(swh_arr) - 5)):\n",
    "    row = swh_arr[start:start+6]\n",
    "    dataset[idx, :] = row"
   ]
  },
  {
   "cell_type": "code",
   "execution_count": 6,
   "id": "novel-rouge",
   "metadata": {},
   "outputs": [],
   "source": [
    "dataset_nona = dataset[~np.isnan(dataset).any(axis=1)]"
   ]
  },
  {
   "cell_type": "code",
   "execution_count": 7,
   "id": "congressional-small",
   "metadata": {},
   "outputs": [],
   "source": [
    "X = dataset_nona[:, :5]\n",
    "y = dataset_nona[:, 5]"
   ]
  },
  {
   "cell_type": "code",
   "execution_count": 10,
   "id": "surrounded-reduction",
   "metadata": {},
   "outputs": [],
   "source": [
    "X_train, X_test, y_train, y_test = train_test_split(X, y)"
   ]
  },
  {
   "cell_type": "code",
   "execution_count": 69,
   "id": "unnecessary-cowboy",
   "metadata": {},
   "outputs": [],
   "source": [
    "class OceanDataset(Dataset):\n",
    "    def __init__(self, X_train, X_test, y_train, y_test):\n",
    "        self.dataset = {\n",
    "            'train': (X_train, y_train, len(X_train)),\n",
    "            'test': (X_test, y_test, len(y_test))\n",
    "        }\n",
    "        \n",
    "        self.set_split('train')\n",
    "        \n",
    "    def set_split(self, split='train'):\n",
    "        self.X, self.y, self.length = self.dataset[split]\n",
    "        \n",
    "    def __getitem__(self, idx):\n",
    "        x = torch.FloatTensor(self.X[idx])\n",
    "        y = torch.FloatTensor([self.y[idx]])\n",
    "        \n",
    "        return x, y\n",
    "    \n",
    "    def __len__(self):\n",
    "        return self.length    "
   ]
  },
  {
   "cell_type": "code",
   "execution_count": 88,
   "id": "entire-prior",
   "metadata": {},
   "outputs": [],
   "source": [
    "class Regressor(nn.Module):\n",
    "    def __init__(self,):\n",
    "        super(Regressor, self).__init__()\n",
    "        self.archi = nn.Sequential(\n",
    "            nn.Linear(in_features=5, out_features=15),\n",
    "            nn.Linear(in_features=15, out_features=1)\n",
    "        )\n",
    "        \n",
    "    def forward(self, input_):\n",
    "        out = self.archi(input_)\n",
    "        out = torch.relu(out)\n",
    "        \n",
    "        return out"
   ]
  },
  {
   "cell_type": "code",
   "execution_count": 89,
   "id": "floating-magnitude",
   "metadata": {},
   "outputs": [],
   "source": [
    "dataset = OceanDataset(X_train, X_test, y_train, y_test)"
   ]
  },
  {
   "cell_type": "code",
   "execution_count": 90,
   "id": "impossible-messenger",
   "metadata": {},
   "outputs": [],
   "source": [
    "model = Regressor()"
   ]
  },
  {
   "cell_type": "code",
   "execution_count": 91,
   "id": "photographic-monroe",
   "metadata": {},
   "outputs": [
    {
     "name": "stdout",
     "output_type": "stream",
     "text": [
      "Total trainable parameters 106\n"
     ]
    }
   ],
   "source": [
    "num_params = sum(p.numel() for p in model.parameters())\n",
    "print(f\"Total trainable parameters {num_params}\")"
   ]
  },
  {
   "cell_type": "code",
   "execution_count": 92,
   "id": "funded-confidence",
   "metadata": {},
   "outputs": [],
   "source": [
    "optimizer = optim.Adam(model.parameters(), lr=1e-4)\n",
    "criterion = nn.MSELoss()"
   ]
  },
  {
   "cell_type": "markdown",
   "id": "informed-settlement",
   "metadata": {},
   "source": [
    "#### Training Routine"
   ]
  },
  {
   "cell_type": "code",
   "execution_count": 93,
   "id": "tired-protection",
   "metadata": {
    "scrolled": true,
    "tags": []
   },
   "outputs": [
    {
     "name": "stdout",
     "output_type": "stream",
     "text": [
      "epoch 1 | 2.48s\n",
      "train loss: 0.50 val loss: 0.15\n",
      "epoch 2 | 2.40s\n",
      "train loss: 0.15 val loss: 0.14\n",
      "epoch 3 | 2.31s\n",
      "train loss: 0.13 val loss: 0.12\n",
      "epoch 4 | 2.38s\n",
      "train loss: 0.12 val loss: 0.12\n",
      "epoch 5 | 2.37s\n",
      "train loss: 0.12 val loss: 0.12\n",
      "epoch 6 | 2.37s\n",
      "train loss: 0.12 val loss: 0.12\n",
      "epoch 7 | 2.40s\n",
      "train loss: 0.12 val loss: 0.11\n",
      "epoch 8 | 2.43s\n",
      "train loss: 0.12 val loss: 0.11\n",
      "epoch 9 | 2.38s\n",
      "train loss: 0.11 val loss: 0.11\n",
      "epoch 10 | 2.35s\n",
      "train loss: 0.11 val loss: 0.11\n",
      "epoch 11 | 2.43s\n",
      "train loss: 0.11 val loss: 0.11\n",
      "epoch 12 | 2.35s\n",
      "train loss: 0.11 val loss: 0.11\n",
      "epoch 13 | 2.38s\n",
      "train loss: 0.11 val loss: 0.11\n",
      "epoch 14 | 2.41s\n",
      "train loss: 0.11 val loss: 0.11\n",
      "epoch 15 | 2.41s\n",
      "train loss: 0.11 val loss: 0.11\n",
      "epoch 16 | 2.35s\n",
      "train loss: 0.11 val loss: 0.11\n",
      "epoch 17 | 2.37s\n",
      "train loss: 0.11 val loss: 0.11\n",
      "epoch 18 | 2.38s\n",
      "train loss: 0.11 val loss: 0.11\n",
      "epoch 19 | 2.39s\n",
      "train loss: 0.11 val loss: 0.11\n",
      "epoch 20 | 2.39s\n",
      "train loss: 0.11 val loss: 0.11\n",
      "epoch 21 | 2.43s\n",
      "train loss: 0.11 val loss: 0.11\n",
      "epoch 22 | 2.36s\n",
      "train loss: 0.11 val loss: 0.11\n",
      "epoch 23 | 2.39s\n",
      "train loss: 0.11 val loss: 0.11\n",
      "epoch 24 | 2.42s\n",
      "train loss: 0.11 val loss: 0.11\n",
      "epoch 25 | 2.40s\n",
      "train loss: 0.11 val loss: 0.11\n",
      "epoch 26 | 2.40s\n",
      "train loss: 0.11 val loss: 0.11\n",
      "epoch 27 | 2.41s\n",
      "train loss: 0.11 val loss: 0.11\n",
      "epoch 28 | 2.38s\n",
      "train loss: 0.11 val loss: 0.11\n",
      "epoch 29 | 2.39s\n",
      "train loss: 0.11 val loss: 0.11\n",
      "epoch 30 | 2.39s\n",
      "train loss: 0.11 val loss: 0.11\n",
      "epoch 31 | 2.36s\n",
      "train loss: 0.11 val loss: 0.11\n",
      "epoch 32 | 2.43s\n",
      "train loss: 0.11 val loss: 0.11\n",
      "epoch 33 | 2.42s\n",
      "train loss: 0.11 val loss: 0.11\n",
      "epoch 34 | 2.07s\n",
      "train loss: 0.11 val loss: 0.11\n",
      "epoch 35 | 2.27s\n",
      "train loss: 0.11 val loss: 0.11\n",
      "epoch 36 | 2.34s\n",
      "train loss: 0.11 val loss: 0.11\n",
      "epoch 37 | 2.42s\n",
      "train loss: 0.11 val loss: 0.11\n",
      "epoch 38 | 2.43s\n",
      "train loss: 0.11 val loss: 0.11\n",
      "epoch 39 | 2.36s\n",
      "train loss: 0.11 val loss: 0.11\n",
      "epoch 40 | 2.41s\n",
      "train loss: 0.11 val loss: 0.11\n",
      "epoch 41 | 2.41s\n",
      "train loss: 0.11 val loss: 0.11\n",
      "epoch 42 | 2.40s\n",
      "train loss: 0.11 val loss: 0.11\n",
      "epoch 43 | 2.39s\n",
      "train loss: 0.11 val loss: 0.11\n",
      "epoch 44 | 2.41s\n",
      "train loss: 0.11 val loss: 0.11\n",
      "epoch 45 | 2.37s\n",
      "train loss: 0.11 val loss: 0.11\n",
      "epoch 46 | 2.14s\n",
      "train loss: 0.11 val loss: 0.11\n",
      "epoch 47 | 2.47s\n",
      "train loss: 0.11 val loss: 0.11\n",
      "epoch 48 | 2.48s\n",
      "train loss: 0.11 val loss: 0.11\n",
      "epoch 49 | 3.39s\n",
      "train loss: 0.11 val loss: 0.11\n",
      "epoch 50 | 3.69s\n",
      "train loss: 0.11 val loss: 0.11\n"
     ]
    }
   ],
   "source": [
    "for epoch in range(1, 51):\n",
    "    \n",
    "    loss_train = 0\n",
    "    loss_val = 0\n",
    "    \n",
    "    start = time.time()\n",
    "    \n",
    "    model.train()\n",
    "    dataset.set_split('train')\n",
    "    data_gen = DataLoader(dataset, batch_size=32)\n",
    "    for batch_index, (x, y) in enumerate(data_gen, 1):\n",
    "        optimizer.zero_grad()\n",
    "        \n",
    "        out = model(x)\n",
    "        \n",
    "        loss = torch.sqrt(criterion(out, y))\n",
    "        loss_train += (loss.item() - loss_train) / batch_index\n",
    "        loss.backward()\n",
    "        \n",
    "        optimizer.step()\n",
    "    \n",
    "    model.eval()\n",
    "    dataset.set_split('test')\n",
    "    data_gen = DataLoader(dataset, batch_size=32)\n",
    "    for batch_index, (x, y) in enumerate(data_gen, 1):\n",
    "        with torch.no_grad():\n",
    "            out = model(x)\n",
    "            \n",
    "            loss = torch.sqrt(criterion(out, y))\n",
    "            loss_val += (loss.item() - loss_val) / batch_index\n",
    "    \n",
    "    duration = time.time() - start\n",
    "    \n",
    "    print(f\"epoch {epoch} | {duration:.2f}s\")\n",
    "    print(f\"train loss: {loss_train:.2f} val loss: {loss_val:.2f}\")"
   ]
  },
  {
   "cell_type": "code",
   "execution_count": null,
   "id": "weird-industry",
   "metadata": {},
   "outputs": [],
   "source": []
  }
 ],
 "metadata": {
  "kernelspec": {
   "display_name": "Python 3",
   "language": "python",
   "name": "python3"
  },
  "language_info": {
   "codemirror_mode": {
    "name": "ipython",
    "version": 3
   },
   "file_extension": ".py",
   "mimetype": "text/x-python",
   "name": "python",
   "nbconvert_exporter": "python",
   "pygments_lexer": "ipython3",
   "version": "3.7.3"
  }
 },
 "nbformat": 4,
 "nbformat_minor": 5
}
