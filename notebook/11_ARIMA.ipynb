{
 "cells": [
  {
   "cell_type": "markdown",
   "id": "empirical-hamilton",
   "metadata": {},
   "source": [
    "### Statistical Method (AR & ARIMA)"
   ]
  },
  {
   "cell_type": "code",
   "execution_count": null,
   "id": "female-career",
   "metadata": {},
   "outputs": [],
   "source": [
    "import pandas as pd\n",
    "import numpy as np\n",
    "import matplotlib.pyplot as plt\n",
    "import seaborn as sns\n",
    "import warnings\n",
    "warnings.filterwarnings('ignore')\n",
    "\n",
    "from math import sqrt\n",
    "from statsmodels.tsa.ar_model import AutoReg\n",
    "from statsmodels.tsa.arima.model import ARIMA\n",
    "import pmdarima as pm # auto arima\n",
    "from sklearn.metrics import mean_squared_error\n",
    "from sklearn.model_selection import TimeSeriesSplit"
   ]
  },
  {
   "cell_type": "code",
   "execution_count": null,
   "id": "transsexual-number",
   "metadata": {},
   "outputs": [],
   "source": [
    "file = \"../datasets/clean/df_41017.csv\"\n",
    "df = pd.read_csv(file, index_col=0)\n",
    "df.index = pd.to_datetime(df.index)"
   ]
  },
  {
   "cell_type": "code",
   "execution_count": null,
   "id": "sexual-bolivia",
   "metadata": {},
   "outputs": [],
   "source": [
    "train = df[df.index < pd.to_datetime(\"2016/01/01\")]\n",
    "test = df[df.index > pd.to_datetime(\"2016/01/01\")]\n",
    "print(f\"Train size: {train.size}\\nTest size: {test.size}\")"
   ]
  },
  {
   "cell_type": "markdown",
   "id": "realistic-carry",
   "metadata": {},
   "source": [
    "#### Autoregressive"
   ]
  },
  {
   "cell_type": "code",
   "execution_count": null,
   "id": "operating-lewis",
   "metadata": {
    "tags": []
   },
   "outputs": [],
   "source": [
    "ar_model = AutoReg(train, lags=5).fit()\n",
    "ar_model.summary()"
   ]
  },
  {
   "cell_type": "code",
   "execution_count": null,
   "id": "civilian-wonder",
   "metadata": {},
   "outputs": [],
   "source": [
    "ar_predict = ar_model.predict(start=train.size, end=train.size+test.size-1)\n",
    "print(ar_predict)"
   ]
  },
  {
   "cell_type": "code",
   "execution_count": null,
   "id": "expressed-patient",
   "metadata": {},
   "outputs": [],
   "source": [
    "plt.plot(test)\n",
    "plt.plot(ar_predict)\n",
    "print(f\"MSE of AR: {mean_squared_error(test,ar_predict)}\")"
   ]
  },
  {
   "cell_type": "markdown",
   "id": "accompanied-peoples",
   "metadata": {},
   "source": [
    "#### ARIMA\n",
    "Order = `(p,d,q)` \\\n",
    "`p = order of AR term` `d = order of differencing` `q = order of MA term`"
   ]
  },
  {
   "cell_type": "code",
   "execution_count": null,
   "id": "human-yukon",
   "metadata": {},
   "outputs": [],
   "source": [
    "arima_model = ARIMA(train, order=(5,0,7)).fit()"
   ]
  },
  {
   "cell_type": "code",
   "execution_count": null,
   "id": "distributed-cleaners",
   "metadata": {},
   "outputs": [],
   "source": [
    "arima_model.summary()"
   ]
  },
  {
   "cell_type": "code",
   "execution_count": null,
   "id": "meaning-usage",
   "metadata": {},
   "outputs": [],
   "source": [
    "arima_predict = arima_model.forecast(steps=len(test))\n",
    "print(arima_predict)"
   ]
  },
  {
   "cell_type": "code",
   "execution_count": null,
   "id": "canadian-press",
   "metadata": {},
   "outputs": [],
   "source": [
    "plt.plot(test)\n",
    "plt.plot(arima_predict)\n",
    "print(f\"MSE of ARIMA: {mean_squared_error(test,arima_predict)}\")"
   ]
  },
  {
   "cell_type": "markdown",
   "id": "closed-wonder",
   "metadata": {},
   "source": [
    "Using auto ARIMA"
   ]
  },
  {
   "cell_type": "code",
   "execution_count": null,
   "id": "presidential-client",
   "metadata": {},
   "outputs": [],
   "source": [
    "# !pip3 install pyramid-arima\n",
    "\n",
    "autoarima_model = pm.auto_arima(train, start_p=1, start_q=1,\n",
    "                                  test='adf',       \n",
    "                                  max_p=5, max_q=7, \n",
    "                                  m=1,           \n",
    "                                  d=None,   \n",
    "                                  seasonal=False,\n",
    "                                  start_P=0, \n",
    "                                  D=0, \n",
    "                                  trace=True,\n",
    "                                  error_action='ignore',  \n",
    "                                  suppress_warnings=True, \n",
    "                                  stepwise=True)\n",
    "\n",
    "\n",
    "autoarima_model.summary()"
   ]
  },
  {
   "cell_type": "code",
   "execution_count": null,
   "id": "falling-digest",
   "metadata": {},
   "outputs": [],
   "source": [
    "autoarima_model.plot_diagnostics(figsize=(10,6))\n",
    "plt.tight_layout()\n",
    "plt.show()"
   ]
  },
  {
   "cell_type": "code",
   "execution_count": null,
   "id": "weighted-antarctica",
   "metadata": {},
   "outputs": [],
   "source": [
    "autoarima_predict = autoarima_model.predict(n_periods=len(test))\n",
    "mean_squared_error(test,autoarima_predict)"
   ]
  },
  {
   "cell_type": "markdown",
   "id": "narrow-enlargement",
   "metadata": {},
   "source": [
    "----"
   ]
  },
  {
   "cell_type": "code",
   "execution_count": null,
   "id": "natural-blood",
   "metadata": {},
   "outputs": [],
   "source": [
    "# train_swh = train.swh.values\n",
    "# train_rows = train_swh.shape[0] - 6\n",
    "# train_df = np.zeros((train_rows+1, 6))\n",
    "# for idx, start in enumerate(range(0, len(train_swh) - 5)):\n",
    "#     row = train_swh[start:start+6]\n",
    "#     train_df[idx, :] = row"
   ]
  },
  {
   "cell_type": "code",
   "execution_count": null,
   "id": "standing-webmaster",
   "metadata": {},
   "outputs": [],
   "source": [
    "# train_df.shape"
   ]
  },
  {
   "cell_type": "code",
   "execution_count": null,
   "id": "different-isaac",
   "metadata": {},
   "outputs": [],
   "source": [
    "# test_swh = test.swh.values\n",
    "# test_rows = test_swh.shape[0] - 6\n",
    "# test_df = np.zeros((test_rows+1,6))\n",
    "# for idx, start in enumerate(range(0, len(test_swh) - 5)):\n",
    "#     row = test_swh[start:start+6]\n",
    "#     test_df[idx, :] = row"
   ]
  },
  {
   "cell_type": "code",
   "execution_count": null,
   "id": "ultimate-turtle",
   "metadata": {},
   "outputs": [],
   "source": [
    "# test_df.shape"
   ]
  },
  {
   "cell_type": "code",
   "execution_count": null,
   "id": "superior-material",
   "metadata": {},
   "outputs": [],
   "source": [
    "# X = train_df[:, :5]\n",
    "# y = train_df[:, 5]"
   ]
  },
  {
   "cell_type": "code",
   "execution_count": null,
   "id": "illegal-minneapolis",
   "metadata": {
    "scrolled": true,
    "tags": []
   },
   "outputs": [],
   "source": [
    "# # time series train test split\n",
    "\n",
    "# tscv = TimeSeriesSplit(n_splits=3)\n",
    "\n",
    "# for train_index, test_index in tscv.split(train_df):\n",
    "\n",
    "#     X_train, X_test = X[train_index], X[test_index]\n",
    "#     y_train, y_test = y[train_index], y[test_index]"
   ]
  }
 ],
 "metadata": {
  "kernelspec": {
   "display_name": "Python 3",
   "language": "python",
   "name": "python3"
  },
  "language_info": {
   "codemirror_mode": {
    "name": "ipython",
    "version": 3
   },
   "file_extension": ".py",
   "mimetype": "text/x-python",
   "name": "python",
   "nbconvert_exporter": "python",
   "pygments_lexer": "ipython3",
   "version": "3.9.2"
  }
 },
 "nbformat": 4,
 "nbformat_minor": 5
}
